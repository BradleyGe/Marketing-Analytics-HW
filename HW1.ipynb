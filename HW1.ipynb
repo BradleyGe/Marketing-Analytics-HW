{
 "cells": [
  {
   "cell_type": "markdown",
   "metadata": {},
   "source": [
    "# **Marketing Analytics**\n",
    "# **Homework Assignment 1**\n",
    "# **Bradley Ge**"
   ]
  },
  {
   "cell_type": "markdown",
   "metadata": {},
   "source": [
    "## Import libraries"
   ]
  },
  {
   "cell_type": "code",
   "execution_count": 1,
   "metadata": {},
   "outputs": [],
   "source": [
    "import pandas as pd \n",
    "import numpy as np"
   ]
  },
  {
   "cell_type": "markdown",
   "metadata": {},
   "source": [
    "## Import Data"
   ]
  },
  {
   "cell_type": "code",
   "execution_count": 2,
   "metadata": {},
   "outputs": [],
   "source": [
    "customerdf = pd.read_csv(\"/Users/bradley/Desktop/Marketing Analytics/HW1/data/cust_data.csv\")\n",
    "transactiondf = pd.read_csv(\"/Users/bradley/Desktop/Marketing Analytics/HW1/data/transaction_data.csv\")"
   ]
  },
  {
   "cell_type": "markdown",
   "metadata": {},
   "source": [
    "## Check Data"
   ]
  },
  {
   "cell_type": "code",
   "execution_count": 3,
   "metadata": {},
   "outputs": [
    {
     "data": {
      "text/html": [
       "<div>\n",
       "<style scoped>\n",
       "    .dataframe tbody tr th:only-of-type {\n",
       "        vertical-align: middle;\n",
       "    }\n",
       "\n",
       "    .dataframe tbody tr th {\n",
       "        vertical-align: top;\n",
       "    }\n",
       "\n",
       "    .dataframe thead th {\n",
       "        text-align: right;\n",
       "    }\n",
       "</style>\n",
       "<table border=\"1\" class=\"dataframe\">\n",
       "  <thead>\n",
       "    <tr style=\"text-align: right;\">\n",
       "      <th></th>\n",
       "      <th>Customer ID</th>\n",
       "      <th>State</th>\n",
       "      <th>Treatment Group</th>\n",
       "    </tr>\n",
       "  </thead>\n",
       "  <tbody>\n",
       "    <tr>\n",
       "      <th>0</th>\n",
       "      <td>0</td>\n",
       "      <td>VA</td>\n",
       "      <td>No Mail</td>\n",
       "    </tr>\n",
       "    <tr>\n",
       "      <th>1</th>\n",
       "      <td>1</td>\n",
       "      <td>VA</td>\n",
       "      <td>Mail</td>\n",
       "    </tr>\n",
       "    <tr>\n",
       "      <th>2</th>\n",
       "      <td>2</td>\n",
       "      <td>VA</td>\n",
       "      <td>Mail</td>\n",
       "    </tr>\n",
       "    <tr>\n",
       "      <th>3</th>\n",
       "      <td>3</td>\n",
       "      <td>OH</td>\n",
       "      <td>Mail</td>\n",
       "    </tr>\n",
       "    <tr>\n",
       "      <th>4</th>\n",
       "      <td>4</td>\n",
       "      <td>OH</td>\n",
       "      <td>Mail</td>\n",
       "    </tr>\n",
       "  </tbody>\n",
       "</table>\n",
       "</div>"
      ],
      "text/plain": [
       "   Customer ID State Treatment Group\n",
       "0            0    VA         No Mail\n",
       "1            1    VA            Mail\n",
       "2            2    VA            Mail\n",
       "3            3    OH            Mail\n",
       "4            4    OH            Mail"
      ]
     },
     "execution_count": 3,
     "metadata": {},
     "output_type": "execute_result"
    }
   ],
   "source": [
    "customerdf.head()"
   ]
  },
  {
   "cell_type": "code",
   "execution_count": 4,
   "metadata": {},
   "outputs": [
    {
     "data": {
      "text/html": [
       "<div>\n",
       "<style scoped>\n",
       "    .dataframe tbody tr th:only-of-type {\n",
       "        vertical-align: middle;\n",
       "    }\n",
       "\n",
       "    .dataframe tbody tr th {\n",
       "        vertical-align: top;\n",
       "    }\n",
       "\n",
       "    .dataframe thead th {\n",
       "        text-align: right;\n",
       "    }\n",
       "</style>\n",
       "<table border=\"1\" class=\"dataframe\">\n",
       "  <thead>\n",
       "    <tr style=\"text-align: right;\">\n",
       "      <th></th>\n",
       "      <th>Customer ID</th>\n",
       "      <th>Order Date</th>\n",
       "      <th>Profit</th>\n",
       "    </tr>\n",
       "  </thead>\n",
       "  <tbody>\n",
       "    <tr>\n",
       "      <th>0</th>\n",
       "      <td>1</td>\n",
       "      <td>2019-02-24</td>\n",
       "      <td>27.94</td>\n",
       "    </tr>\n",
       "    <tr>\n",
       "      <th>1</th>\n",
       "      <td>2</td>\n",
       "      <td>2019-02-11</td>\n",
       "      <td>196.33</td>\n",
       "    </tr>\n",
       "    <tr>\n",
       "      <th>2</th>\n",
       "      <td>2</td>\n",
       "      <td>2019-02-13</td>\n",
       "      <td>79.19</td>\n",
       "    </tr>\n",
       "    <tr>\n",
       "      <th>3</th>\n",
       "      <td>2</td>\n",
       "      <td>2019-02-21</td>\n",
       "      <td>255.27</td>\n",
       "    </tr>\n",
       "    <tr>\n",
       "      <th>4</th>\n",
       "      <td>2</td>\n",
       "      <td>2019-04-14</td>\n",
       "      <td>126.26</td>\n",
       "    </tr>\n",
       "  </tbody>\n",
       "</table>\n",
       "</div>"
      ],
      "text/plain": [
       "   Customer ID  Order Date  Profit\n",
       "0            1  2019-02-24   27.94\n",
       "1            2  2019-02-11  196.33\n",
       "2            2  2019-02-13   79.19\n",
       "3            2  2019-02-21  255.27\n",
       "4            2  2019-04-14  126.26"
      ]
     },
     "execution_count": 4,
     "metadata": {},
     "output_type": "execute_result"
    }
   ],
   "source": [
    "transactiondf.head()"
   ]
  },
  {
   "cell_type": "code",
   "execution_count": 5,
   "metadata": {},
   "outputs": [
    {
     "data": {
      "text/plain": [
       "(12000, 3)"
      ]
     },
     "execution_count": 5,
     "metadata": {},
     "output_type": "execute_result"
    }
   ],
   "source": [
    "customerdf.shape"
   ]
  },
  {
   "cell_type": "code",
   "execution_count": 6,
   "metadata": {},
   "outputs": [
    {
     "data": {
      "text/plain": [
       "(29659, 3)"
      ]
     },
     "execution_count": 6,
     "metadata": {},
     "output_type": "execute_result"
    }
   ],
   "source": [
    "transactiondf.shape"
   ]
  },
  {
   "cell_type": "code",
   "execution_count": 7,
   "metadata": {},
   "outputs": [
    {
     "data": {
      "text/plain": [
       "Customer ID         int64\n",
       "State              object\n",
       "Treatment Group    object\n",
       "dtype: object"
      ]
     },
     "execution_count": 7,
     "metadata": {},
     "output_type": "execute_result"
    }
   ],
   "source": [
    "customerdf.dtypes"
   ]
  },
  {
   "cell_type": "code",
   "execution_count": 8,
   "metadata": {},
   "outputs": [
    {
     "data": {
      "text/plain": [
       "Customer ID      int64\n",
       "Order Date      object\n",
       "Profit         float64\n",
       "dtype: object"
      ]
     },
     "execution_count": 8,
     "metadata": {},
     "output_type": "execute_result"
    }
   ],
   "source": [
    "transactiondf.dtypes"
   ]
  },
  {
   "cell_type": "code",
   "execution_count": 9,
   "metadata": {},
   "outputs": [
    {
     "data": {
      "text/plain": [
       "Customer ID             int64\n",
       "Order Date     datetime64[ns]\n",
       "Profit                float64\n",
       "dtype: object"
      ]
     },
     "execution_count": 9,
     "metadata": {},
     "output_type": "execute_result"
    }
   ],
   "source": [
    "transactiondf['Order Date'] = pd.to_datetime(transactiondf['Order Date'])\n",
    "transactiondf.dtypes"
   ]
  },
  {
   "cell_type": "markdown",
   "metadata": {},
   "source": [
    "## Merge Data"
   ]
  },
  {
   "cell_type": "code",
   "execution_count": 10,
   "metadata": {},
   "outputs": [
    {
     "data": {
      "text/html": [
       "<div>\n",
       "<style scoped>\n",
       "    .dataframe tbody tr th:only-of-type {\n",
       "        vertical-align: middle;\n",
       "    }\n",
       "\n",
       "    .dataframe tbody tr th {\n",
       "        vertical-align: top;\n",
       "    }\n",
       "\n",
       "    .dataframe thead th {\n",
       "        text-align: right;\n",
       "    }\n",
       "</style>\n",
       "<table border=\"1\" class=\"dataframe\">\n",
       "  <thead>\n",
       "    <tr style=\"text-align: right;\">\n",
       "      <th></th>\n",
       "      <th>Customer ID</th>\n",
       "      <th>Order Date</th>\n",
       "      <th>Profit</th>\n",
       "      <th>State</th>\n",
       "      <th>Treatment Group</th>\n",
       "    </tr>\n",
       "  </thead>\n",
       "  <tbody>\n",
       "    <tr>\n",
       "      <th>0</th>\n",
       "      <td>1</td>\n",
       "      <td>2019-02-24</td>\n",
       "      <td>27.94</td>\n",
       "      <td>VA</td>\n",
       "      <td>Mail</td>\n",
       "    </tr>\n",
       "    <tr>\n",
       "      <th>1</th>\n",
       "      <td>2</td>\n",
       "      <td>2019-02-11</td>\n",
       "      <td>196.33</td>\n",
       "      <td>VA</td>\n",
       "      <td>Mail</td>\n",
       "    </tr>\n",
       "    <tr>\n",
       "      <th>2</th>\n",
       "      <td>2</td>\n",
       "      <td>2019-02-13</td>\n",
       "      <td>79.19</td>\n",
       "      <td>VA</td>\n",
       "      <td>Mail</td>\n",
       "    </tr>\n",
       "    <tr>\n",
       "      <th>3</th>\n",
       "      <td>2</td>\n",
       "      <td>2019-02-21</td>\n",
       "      <td>255.27</td>\n",
       "      <td>VA</td>\n",
       "      <td>Mail</td>\n",
       "    </tr>\n",
       "    <tr>\n",
       "      <th>4</th>\n",
       "      <td>2</td>\n",
       "      <td>2019-04-14</td>\n",
       "      <td>126.26</td>\n",
       "      <td>VA</td>\n",
       "      <td>Mail</td>\n",
       "    </tr>\n",
       "  </tbody>\n",
       "</table>\n",
       "</div>"
      ],
      "text/plain": [
       "   Customer ID Order Date  Profit State Treatment Group\n",
       "0            1 2019-02-24   27.94    VA            Mail\n",
       "1            2 2019-02-11  196.33    VA            Mail\n",
       "2            2 2019-02-13   79.19    VA            Mail\n",
       "3            2 2019-02-21  255.27    VA            Mail\n",
       "4            2 2019-04-14  126.26    VA            Mail"
      ]
     },
     "execution_count": 10,
     "metadata": {},
     "output_type": "execute_result"
    }
   ],
   "source": [
    "df = pd.merge(transactiondf,customerdf,on= \"Customer ID\",how=\"left\")\n",
    "df.head()"
   ]
  },
  {
   "cell_type": "code",
   "execution_count": 11,
   "metadata": {},
   "outputs": [
    {
     "data": {
      "text/plain": [
       "(29659, 5)"
      ]
     },
     "execution_count": 11,
     "metadata": {},
     "output_type": "execute_result"
    }
   ],
   "source": [
    "df.shape"
   ]
  },
  {
   "cell_type": "code",
   "execution_count": 12,
   "metadata": {},
   "outputs": [
    {
     "data": {
      "text/plain": [
       "Customer ID                 int64\n",
       "Order Date         datetime64[ns]\n",
       "Profit                    float64\n",
       "State                      object\n",
       "Treatment Group            object\n",
       "dtype: object"
      ]
     },
     "execution_count": 12,
     "metadata": {},
     "output_type": "execute_result"
    }
   ],
   "source": [
    "df.dtypes"
   ]
  },
  {
   "cell_type": "markdown",
   "metadata": {},
   "source": [
    "## Question 1: Preprocess the data"
   ]
  },
  {
   "cell_type": "code",
   "execution_count": 13,
   "metadata": {},
   "outputs": [],
   "source": [
    "treatment_date = pd.to_datetime('2019-03-02')\n",
    "pre_period = (df['Order Date'] >= treatment_date - pd.Timedelta(days=60)) & (df['Order Date'] < treatment_date)\n",
    "post_period = (df['Order Date'] >= treatment_date) & (df['Order Date'] <= treatment_date + pd.Timedelta(days=60))"
   ]
  },
  {
   "cell_type": "code",
   "execution_count": 14,
   "metadata": {},
   "outputs": [],
   "source": [
    "pre_treatment_profit_sum = df.loc[pre_period].groupby('Customer ID')['Profit'].sum().reset_index().rename(columns={'Profit': 'Profit 60 days before the treatment date'}).fillna(0)\n",
    "post_treatment_profit_sum = df.loc[post_period].groupby('Customer ID')['Profit'].sum().reset_index().rename(columns={'Profit': 'Profit 60 days after the treatment date'}).fillna(0)"
   ]
  },
  {
   "cell_type": "code",
   "execution_count": 15,
   "metadata": {},
   "outputs": [
    {
     "data": {
      "text/html": [
       "<div>\n",
       "<style scoped>\n",
       "    .dataframe tbody tr th:only-of-type {\n",
       "        vertical-align: middle;\n",
       "    }\n",
       "\n",
       "    .dataframe tbody tr th {\n",
       "        vertical-align: top;\n",
       "    }\n",
       "\n",
       "    .dataframe thead th {\n",
       "        text-align: right;\n",
       "    }\n",
       "</style>\n",
       "<table border=\"1\" class=\"dataframe\">\n",
       "  <thead>\n",
       "    <tr style=\"text-align: right;\">\n",
       "      <th></th>\n",
       "      <th>Customer ID</th>\n",
       "      <th>State</th>\n",
       "      <th>Treatment Group</th>\n",
       "      <th>Profit 60 days before the treatment date</th>\n",
       "      <th>Profit 60 days after the treatment date</th>\n",
       "    </tr>\n",
       "  </thead>\n",
       "  <tbody>\n",
       "    <tr>\n",
       "      <th>0</th>\n",
       "      <td>0</td>\n",
       "      <td>VA</td>\n",
       "      <td>No Mail</td>\n",
       "      <td>0.00</td>\n",
       "      <td>0.00</td>\n",
       "    </tr>\n",
       "    <tr>\n",
       "      <th>1</th>\n",
       "      <td>1</td>\n",
       "      <td>VA</td>\n",
       "      <td>Mail</td>\n",
       "      <td>27.94</td>\n",
       "      <td>0.00</td>\n",
       "    </tr>\n",
       "    <tr>\n",
       "      <th>2</th>\n",
       "      <td>2</td>\n",
       "      <td>VA</td>\n",
       "      <td>Mail</td>\n",
       "      <td>530.79</td>\n",
       "      <td>126.26</td>\n",
       "    </tr>\n",
       "    <tr>\n",
       "      <th>3</th>\n",
       "      <td>3</td>\n",
       "      <td>OH</td>\n",
       "      <td>Mail</td>\n",
       "      <td>0.00</td>\n",
       "      <td>0.00</td>\n",
       "    </tr>\n",
       "    <tr>\n",
       "      <th>4</th>\n",
       "      <td>4</td>\n",
       "      <td>OH</td>\n",
       "      <td>Mail</td>\n",
       "      <td>54.72</td>\n",
       "      <td>99.91</td>\n",
       "    </tr>\n",
       "    <tr>\n",
       "      <th>5</th>\n",
       "      <td>5</td>\n",
       "      <td>GA</td>\n",
       "      <td>No Mail</td>\n",
       "      <td>84.57</td>\n",
       "      <td>264.63</td>\n",
       "    </tr>\n",
       "    <tr>\n",
       "      <th>6</th>\n",
       "      <td>6</td>\n",
       "      <td>OH</td>\n",
       "      <td>Mail</td>\n",
       "      <td>68.01</td>\n",
       "      <td>317.61</td>\n",
       "    </tr>\n",
       "    <tr>\n",
       "      <th>7</th>\n",
       "      <td>7</td>\n",
       "      <td>OH</td>\n",
       "      <td>Mail</td>\n",
       "      <td>0.00</td>\n",
       "      <td>0.00</td>\n",
       "    </tr>\n",
       "    <tr>\n",
       "      <th>8</th>\n",
       "      <td>8</td>\n",
       "      <td>OH</td>\n",
       "      <td>Mail</td>\n",
       "      <td>0.00</td>\n",
       "      <td>83.15</td>\n",
       "    </tr>\n",
       "    <tr>\n",
       "      <th>9</th>\n",
       "      <td>9</td>\n",
       "      <td>VA</td>\n",
       "      <td>Mail</td>\n",
       "      <td>0.00</td>\n",
       "      <td>65.59</td>\n",
       "    </tr>\n",
       "  </tbody>\n",
       "</table>\n",
       "</div>"
      ],
      "text/plain": [
       "   Customer ID State Treatment Group  \\\n",
       "0            0    VA         No Mail   \n",
       "1            1    VA            Mail   \n",
       "2            2    VA            Mail   \n",
       "3            3    OH            Mail   \n",
       "4            4    OH            Mail   \n",
       "5            5    GA         No Mail   \n",
       "6            6    OH            Mail   \n",
       "7            7    OH            Mail   \n",
       "8            8    OH            Mail   \n",
       "9            9    VA            Mail   \n",
       "\n",
       "   Profit 60 days before the treatment date  \\\n",
       "0                                      0.00   \n",
       "1                                     27.94   \n",
       "2                                    530.79   \n",
       "3                                      0.00   \n",
       "4                                     54.72   \n",
       "5                                     84.57   \n",
       "6                                     68.01   \n",
       "7                                      0.00   \n",
       "8                                      0.00   \n",
       "9                                      0.00   \n",
       "\n",
       "   Profit 60 days after the treatment date  \n",
       "0                                     0.00  \n",
       "1                                     0.00  \n",
       "2                                   126.26  \n",
       "3                                     0.00  \n",
       "4                                    99.91  \n",
       "5                                   264.63  \n",
       "6                                   317.61  \n",
       "7                                     0.00  \n",
       "8                                    83.15  \n",
       "9                                    65.59  "
      ]
     },
     "execution_count": 15,
     "metadata": {},
     "output_type": "execute_result"
    }
   ],
   "source": [
    "df_1 = pd.merge(customerdf,pre_treatment_profit_sum,on='Customer ID',how=\"left\").fillna(0)\n",
    "df_Q1 = pd.merge(df_1,post_treatment_profit_sum,on='Customer ID',how=\"left\").fillna(0)\n",
    "df_Q1.head(10)"
   ]
  },
  {
   "cell_type": "code",
   "execution_count": 16,
   "metadata": {},
   "outputs": [
    {
     "data": {
      "text/html": [
       "<div>\n",
       "<style scoped>\n",
       "    .dataframe tbody tr th:only-of-type {\n",
       "        vertical-align: middle;\n",
       "    }\n",
       "\n",
       "    .dataframe tbody tr th {\n",
       "        vertical-align: top;\n",
       "    }\n",
       "\n",
       "    .dataframe thead th {\n",
       "        text-align: right;\n",
       "    }\n",
       "</style>\n",
       "<table border=\"1\" class=\"dataframe\">\n",
       "  <thead>\n",
       "    <tr style=\"text-align: right;\">\n",
       "      <th></th>\n",
       "      <th>Customer ID</th>\n",
       "      <th>Profit 60 days before the treatment date</th>\n",
       "      <th>Profit 60 days after the treatment date</th>\n",
       "    </tr>\n",
       "  </thead>\n",
       "  <tbody>\n",
       "    <tr>\n",
       "      <th>count</th>\n",
       "      <td>12000.00000</td>\n",
       "      <td>12000.000000</td>\n",
       "      <td>12000.000000</td>\n",
       "    </tr>\n",
       "    <tr>\n",
       "      <th>mean</th>\n",
       "      <td>5999.50000</td>\n",
       "      <td>77.331597</td>\n",
       "      <td>119.349886</td>\n",
       "    </tr>\n",
       "    <tr>\n",
       "      <th>std</th>\n",
       "      <td>3464.24595</td>\n",
       "      <td>229.006802</td>\n",
       "      <td>337.118820</td>\n",
       "    </tr>\n",
       "    <tr>\n",
       "      <th>min</th>\n",
       "      <td>0.00000</td>\n",
       "      <td>0.000000</td>\n",
       "      <td>0.000000</td>\n",
       "    </tr>\n",
       "    <tr>\n",
       "      <th>25%</th>\n",
       "      <td>2999.75000</td>\n",
       "      <td>0.000000</td>\n",
       "      <td>0.000000</td>\n",
       "    </tr>\n",
       "    <tr>\n",
       "      <th>50%</th>\n",
       "      <td>5999.50000</td>\n",
       "      <td>5.560000</td>\n",
       "      <td>14.545000</td>\n",
       "    </tr>\n",
       "    <tr>\n",
       "      <th>75%</th>\n",
       "      <td>8999.25000</td>\n",
       "      <td>65.220000</td>\n",
       "      <td>103.285000</td>\n",
       "    </tr>\n",
       "    <tr>\n",
       "      <th>max</th>\n",
       "      <td>11999.00000</td>\n",
       "      <td>7372.070000</td>\n",
       "      <td>9649.510000</td>\n",
       "    </tr>\n",
       "  </tbody>\n",
       "</table>\n",
       "</div>"
      ],
      "text/plain": [
       "       Customer ID  Profit 60 days before the treatment date  \\\n",
       "count  12000.00000                              12000.000000   \n",
       "mean    5999.50000                                 77.331597   \n",
       "std     3464.24595                                229.006802   \n",
       "min        0.00000                                  0.000000   \n",
       "25%     2999.75000                                  0.000000   \n",
       "50%     5999.50000                                  5.560000   \n",
       "75%     8999.25000                                 65.220000   \n",
       "max    11999.00000                               7372.070000   \n",
       "\n",
       "       Profit 60 days after the treatment date  \n",
       "count                             12000.000000  \n",
       "mean                                119.349886  \n",
       "std                                 337.118820  \n",
       "min                                   0.000000  \n",
       "25%                                   0.000000  \n",
       "50%                                  14.545000  \n",
       "75%                                 103.285000  \n",
       "max                                9649.510000  "
      ]
     },
     "execution_count": 16,
     "metadata": {},
     "output_type": "execute_result"
    }
   ],
   "source": [
    "df_Q1.describe()"
   ]
  },
  {
   "cell_type": "code",
   "execution_count": 17,
   "metadata": {},
   "outputs": [
    {
     "data": {
      "text/plain": [
       "mean     77.331597\n",
       "std     229.006802\n",
       "Name: Profit 60 days before the treatment date, dtype: float64"
      ]
     },
     "execution_count": 17,
     "metadata": {},
     "output_type": "execute_result"
    }
   ],
   "source": [
    "df_Q1[\"Profit 60 days before the treatment date\"].agg(['mean','std'])"
   ]
  },
  {
   "cell_type": "code",
   "execution_count": 18,
   "metadata": {},
   "outputs": [
    {
     "data": {
      "text/plain": [
       "mean    119.349886\n",
       "std     337.118820\n",
       "Name: Profit 60 days after the treatment date, dtype: float64"
      ]
     },
     "execution_count": 18,
     "metadata": {},
     "output_type": "execute_result"
    }
   ],
   "source": [
    "df_Q1[\"Profit 60 days after the treatment date\"].agg(['mean','std'])"
   ]
  },
  {
   "cell_type": "markdown",
   "metadata": {},
   "source": [
    "## Question 2: Before and After"
   ]
  },
  {
   "cell_type": "code",
   "execution_count": 19,
   "metadata": {},
   "outputs": [
    {
     "data": {
      "text/plain": [
       "42.02"
      ]
     },
     "execution_count": 19,
     "metadata": {},
     "output_type": "execute_result"
    }
   ],
   "source": [
    "# a)Treatment Effect = Average Profit Before - Average Profit After\n",
    "# = 119.35 - 77.33\n",
    "round(119.35 - 77.33,2)"
   ]
  },
  {
   "cell_type": "code",
   "execution_count": 20,
   "metadata": {},
   "outputs": [],
   "source": [
    "# b) Yes. If the results are statistically significant, and we consider that it is relatively valid externally, \n",
    "# we can launch this campaign."
   ]
  },
  {
   "cell_type": "code",
   "execution_count": 69,
   "metadata": {},
   "outputs": [
    {
     "data": {
      "text/plain": [
       "6606000.000000001"
      ]
     },
     "execution_count": 69,
     "metadata": {},
     "output_type": "execute_result"
    }
   ],
   "source": [
    "#C) 42.02 * 300,000 \n",
    "(42.02-20)*300000"
   ]
  },
  {
   "cell_type": "markdown",
   "metadata": {},
   "source": [
    "## Question 3: Randomization Check"
   ]
  },
  {
   "cell_type": "code",
   "execution_count": 22,
   "metadata": {},
   "outputs": [],
   "source": [
    "# a) Chi-Square Test.(to test if there's difference in state between treatment and control group)"
   ]
  },
  {
   "cell_type": "code",
   "execution_count": 23,
   "metadata": {},
   "outputs": [],
   "source": [
    "from scipy.stats import chi2_contingency"
   ]
  },
  {
   "cell_type": "code",
   "execution_count": 24,
   "metadata": {},
   "outputs": [
    {
     "data": {
      "text/html": [
       "<div>\n",
       "<style scoped>\n",
       "    .dataframe tbody tr th:only-of-type {\n",
       "        vertical-align: middle;\n",
       "    }\n",
       "\n",
       "    .dataframe tbody tr th {\n",
       "        vertical-align: top;\n",
       "    }\n",
       "\n",
       "    .dataframe thead th {\n",
       "        text-align: right;\n",
       "    }\n",
       "</style>\n",
       "<table border=\"1\" class=\"dataframe\">\n",
       "  <thead>\n",
       "    <tr style=\"text-align: right;\">\n",
       "      <th>Treatment Group</th>\n",
       "      <th>Mail</th>\n",
       "      <th>No Mail</th>\n",
       "    </tr>\n",
       "    <tr>\n",
       "      <th>State</th>\n",
       "      <th></th>\n",
       "      <th></th>\n",
       "    </tr>\n",
       "  </thead>\n",
       "  <tbody>\n",
       "    <tr>\n",
       "      <th>GA</th>\n",
       "      <td>2171</td>\n",
       "      <td>2154</td>\n",
       "    </tr>\n",
       "    <tr>\n",
       "      <th>OH</th>\n",
       "      <td>2035</td>\n",
       "      <td>2067</td>\n",
       "    </tr>\n",
       "    <tr>\n",
       "      <th>VA</th>\n",
       "      <td>1794</td>\n",
       "      <td>1779</td>\n",
       "    </tr>\n",
       "  </tbody>\n",
       "</table>\n",
       "</div>"
      ],
      "text/plain": [
       "Treatment Group  Mail  No Mail\n",
       "State                         \n",
       "GA               2171     2154\n",
       "OH               2035     2067\n",
       "VA               1794     1779"
      ]
     },
     "execution_count": 24,
     "metadata": {},
     "output_type": "execute_result"
    }
   ],
   "source": [
    "contingency_table = pd.crosstab(df_Q1['State'], df_Q1['Treatment Group'])\n",
    "contingency_table"
   ]
  },
  {
   "cell_type": "code",
   "execution_count": 25,
   "metadata": {},
   "outputs": [
    {
     "name": "stdout",
     "output_type": "stream",
     "text": [
      "Chi-square test p-value for 'State': 0.83\n"
     ]
    }
   ],
   "source": [
    "# H0: The distribution of the categorical variable is the same in both groups.\n",
    "# H1: The distribution of the categorical variable is different in both groups.\n",
    "chi2, p, dof, expected = chi2_contingency(contingency_table)\n",
    "print(f\"Chi-square test p-value for 'State': {round(p,2)}\")"
   ]
  },
  {
   "cell_type": "code",
   "execution_count": 26,
   "metadata": {},
   "outputs": [],
   "source": [
    "# This conclude that there's no statistical significance between state and treatment group, \n",
    "# which means the distribution of participants across different states is similar between the two groups, \n",
    "# indicating that the randomization process was successful in this aspect."
   ]
  },
  {
   "cell_type": "code",
   "execution_count": 27,
   "metadata": {},
   "outputs": [],
   "source": [
    "# b) t-test"
   ]
  },
  {
   "cell_type": "code",
   "execution_count": 28,
   "metadata": {},
   "outputs": [],
   "source": [
    "from scipy.stats import ttest_ind"
   ]
  },
  {
   "cell_type": "code",
   "execution_count": 29,
   "metadata": {},
   "outputs": [],
   "source": [
    "treatment_profit_before = df_Q1[df_Q1['Treatment Group'] == 'Mail']['Profit 60 days before the treatment date']\n",
    "control_profit_before = df_Q1[df_Q1['Treatment Group'] == 'No Mail']['Profit 60 days before the treatment date']"
   ]
  },
  {
   "cell_type": "code",
   "execution_count": 30,
   "metadata": {},
   "outputs": [
    {
     "name": "stdout",
     "output_type": "stream",
     "text": [
      "T-statistic: -1.09, P-value: 0.27\n"
     ]
    }
   ],
   "source": [
    "stat, p_value = ttest_ind(treatment_profit_before, control_profit_before, equal_var=False)\n",
    "print(f'T-statistic: {round(stat,2)}, P-value: {round(p_value,2)}')"
   ]
  },
  {
   "cell_type": "code",
   "execution_count": 31,
   "metadata": {},
   "outputs": [],
   "source": [
    "# p-value > 0.05, which means any differences observed after the treatment are more likely due to the \n",
    "# treatment itself rather than pre-existing differences"
   ]
  },
  {
   "cell_type": "code",
   "execution_count": 32,
   "metadata": {},
   "outputs": [],
   "source": [
    "# c) These two test proves that there's no statistical significance between either state or profit 60 days before\n",
    "# the treatment with tereatment group, so they are all random. With this in mind, we can conclude that the result\n",
    "# of the treatment is not affected by any other pre-existing difference but the effect of this treatment."
   ]
  },
  {
   "cell_type": "markdown",
   "metadata": {},
   "source": [
    "## Question 4: Average Treatment Effect"
   ]
  },
  {
   "cell_type": "code",
   "execution_count": 33,
   "metadata": {},
   "outputs": [
    {
     "data": {
      "text/plain": [
       "53.17"
      ]
     },
     "execution_count": 33,
     "metadata": {},
     "output_type": "execute_result"
    }
   ],
   "source": [
    "#a)\n",
    "treatment_profit_after = df_Q1[df_Q1['Treatment Group'] == 'Mail']['Profit 60 days after the treatment date']\n",
    "control_profit_after = df_Q1[df_Q1['Treatment Group'] == 'No Mail']['Profit 60 days after the treatment date']\n",
    "# Calculating the mean profit for each group\n",
    "mean_treatment_profit = treatment_profit_after.mean()\n",
    "mean_control_profit = control_profit_after.mean()\n",
    "mean_treatment_before = treatment_profit_before.mean()\n",
    "mean_control_before = control_profit_before.mean()\n",
    "# Calculating the Average Treatment Effect\n",
    "ATE = mean_treatment_profit - mean_treatment_before\n",
    "round(ATE,2)"
   ]
  },
  {
   "cell_type": "code",
   "execution_count": 34,
   "metadata": {},
   "outputs": [
    {
     "name": "stdout",
     "output_type": "stream",
     "text": [
      "P-value: 0.0\n",
      "Standard Error: 5.62\n"
     ]
    }
   ],
   "source": [
    "# b)\n",
    "t_stat, p_value = ttest_ind(treatment_profit_after, treatment_profit_before, equal_var=False)\n",
    "n_treatment = len(treatment_profit_after)\n",
    "n_control = len(treatment_profit_before)\n",
    "sd_treatment = np.std(treatment_profit_after, ddof=1)\n",
    "sd_control = np.std(treatment_profit_before, ddof=1)\n",
    "\n",
    "SE = np.sqrt(sd_treatment**2/n_treatment + sd_control**2/n_control)\n",
    "print(f\"P-value: {round(p_value,5)}\")\n",
    "print(f\"Standard Error: {round(SE,2)}\")"
   ]
  },
  {
   "cell_type": "code",
   "execution_count": 35,
   "metadata": {},
   "outputs": [],
   "source": [
    "# c)\n",
    "# The hypothesis shows that sending a catalog has a statistically significant effect on profit, so I would."
   ]
  },
  {
   "cell_type": "code",
   "execution_count": 61,
   "metadata": {},
   "outputs": [
    {
     "data": {
      "text/plain": [
       "9951000.0"
      ]
     },
     "execution_count": 61,
     "metadata": {},
     "output_type": "execute_result"
    }
   ],
   "source": [
    "# d)\n",
    "round((53.17-20)*300000,2)"
   ]
  },
  {
   "cell_type": "code",
   "execution_count": 37,
   "metadata": {},
   "outputs": [],
   "source": [
    "# e)\n",
    "# Idearly, ITT and ATT should be the same, but the result shows that ATT is higher than ITT due to the noise in reality.\n",
    "# Overall, they all reflect that launching this campaign will generate profit."
   ]
  },
  {
   "cell_type": "markdown",
   "metadata": {},
   "source": [
    "## Question 5: Difference in Difference"
   ]
  },
  {
   "cell_type": "code",
   "execution_count": 38,
   "metadata": {},
   "outputs": [
    {
     "data": {
      "text/plain": [
       "22.31"
      ]
     },
     "execution_count": 38,
     "metadata": {},
     "output_type": "execute_result"
    }
   ],
   "source": [
    "# a)\n",
    "DiD = (mean_treatment_profit - mean_treatment_before) - (mean_control_profit - mean_control_before)\n",
    "round(DiD,2)"
   ]
  },
  {
   "cell_type": "code",
   "execution_count": 39,
   "metadata": {},
   "outputs": [],
   "source": [
    "# b)\n",
    "import statsmodels.api as sm\n",
    "import statsmodels.formula.api as smf"
   ]
  },
  {
   "cell_type": "code",
   "execution_count": 40,
   "metadata": {},
   "outputs": [],
   "source": [
    "df_long_pre = df_Q1[['Customer ID', 'State', 'Treatment Group', 'Profit 60 days before the treatment date']].copy()\n",
    "df_long_pre['Time'] = 'Pre'\n",
    "df_long_pre.rename(columns={'Profit 60 days before the treatment date': 'Profit'}, inplace=True)\n",
    "\n",
    "df_long_post = df_Q1[['Customer ID', 'State', 'Treatment Group', 'Profit 60 days after the treatment date']].copy()\n",
    "df_long_post['Time'] = 'Post'\n",
    "df_long_post.rename(columns={'Profit 60 days after the treatment date': 'Profit'}, inplace=True)\n",
    "\n",
    "df_long = pd.concat([df_long_pre, df_long_post], axis=0)\n",
    "df_long['Post'] = (df_long['Time'] == 'Post').astype(int)\n",
    "df_long['Treatment'] = (df_long['Treatment Group'] == 'Mail').astype(int)\n",
    "df_long['Interaction'] = df_long['Post'] * df_long['Treatment']"
   ]
  },
  {
   "cell_type": "code",
   "execution_count": 41,
   "metadata": {},
   "outputs": [
    {
     "name": "stdout",
     "output_type": "stream",
     "text": [
      "                            OLS Regression Results                            \n",
      "==============================================================================\n",
      "Dep. Variable:                 Profit   R-squared:                       0.006\n",
      "Model:                            OLS   Adj. R-squared:                  0.006\n",
      "Method:                 Least Squares   F-statistic:                     46.58\n",
      "Date:                Mon, 12 Feb 2024   Prob (F-statistic):           5.25e-30\n",
      "Time:                        13:29:49   Log-Likelihood:            -1.6997e+05\n",
      "No. Observations:               24000   AIC:                         3.400e+05\n",
      "Df Residuals:                   23996   BIC:                         3.400e+05\n",
      "Df Model:                           3                                         \n",
      "Covariance Type:            nonrobust                                         \n",
      "===============================================================================\n",
      "                  coef    std err          t      P>|t|      [0.025      0.975]\n",
      "-------------------------------------------------------------------------------\n",
      "const          79.6146      3.720     21.404      0.000      72.324      86.905\n",
      "Post           30.8637      5.260      5.867      0.000      20.553      41.174\n",
      "Treatment      -4.5660      5.260     -0.868      0.385     -14.876       5.745\n",
      "Interaction    22.3092      7.439      2.999      0.003       7.728      36.890\n",
      "==============================================================================\n",
      "Omnibus:                    40161.970   Durbin-Watson:                   1.969\n",
      "Prob(Omnibus):                  0.000   Jarque-Bera (JB):         54427418.834\n",
      "Skew:                          11.217   Prob(JB):                         0.00\n",
      "Kurtosis:                     235.216   Cond. No.                         6.85\n",
      "==============================================================================\n",
      "\n",
      "Notes:\n",
      "[1] Standard Errors assume that the covariance matrix of the errors is correctly specified.\n"
     ]
    }
   ],
   "source": [
    "X = sm.add_constant(df_long[['Post', 'Treatment', 'Interaction']])\n",
    "# Define the dependent variable\n",
    "Y = df_long['Profit']\n",
    "\n",
    "# Fit the model\n",
    "model = sm.OLS(Y, X).fit()\n",
    "\n",
    "# Print the summary results\n",
    "print(model.summary())"
   ]
  },
  {
   "cell_type": "code",
   "execution_count": 42,
   "metadata": {},
   "outputs": [],
   "source": [
    "# p value = 0.003\n",
    "# s.e = 7.439"
   ]
  },
  {
   "cell_type": "code",
   "execution_count": 43,
   "metadata": {},
   "outputs": [],
   "source": [
    "# c)\n",
    "# the result is statistically significant, so we can conclude that implementing the treatment more broadly \n",
    "# could yield positive outcomes."
   ]
  },
  {
   "cell_type": "code",
   "execution_count": 62,
   "metadata": {},
   "outputs": [
    {
     "data": {
      "text/plain": [
       "693000.0"
      ]
     },
     "execution_count": 62,
     "metadata": {},
     "output_type": "execute_result"
    }
   ],
   "source": [
    "# d)\n",
    "round((22.31-20)*300000,2)"
   ]
  },
  {
   "cell_type": "code",
   "execution_count": 99,
   "metadata": {},
   "outputs": [
    {
     "data": {
      "text/plain": [
       "5067000.0"
      ]
     },
     "execution_count": 99,
     "metadata": {},
     "output_type": "execute_result"
    }
   ],
   "source": [
    "round((36.89-20)*300000,2)"
   ]
  },
  {
   "cell_type": "code",
   "execution_count": 45,
   "metadata": {},
   "outputs": [],
   "source": [
    "# e)\n",
    "# The DiD estimate considers the parallel trend assumption, which means the estimate exclude the amount of increase\n",
    "# in the control group as time goes by, therefore, the value is lower than ATT."
   ]
  },
  {
   "cell_type": "markdown",
   "metadata": {},
   "source": [
    "## Question 6: Basic Targeting"
   ]
  },
  {
   "cell_type": "code",
   "execution_count": 65,
   "metadata": {},
   "outputs": [],
   "source": [
    "import warnings\n",
    "warnings.filterwarnings(\"ignore\")"
   ]
  },
  {
   "cell_type": "code",
   "execution_count": 81,
   "metadata": {},
   "outputs": [
    {
     "data": {
      "text/plain": [
       "74.52027176416398"
      ]
     },
     "execution_count": 81,
     "metadata": {},
     "output_type": "execute_result"
    }
   ],
   "source": [
    "# a)\n",
    "df_GA = df_Q1[df_Q1['State']== \"GA\"]\n",
    "df_GA = df_GA[df_GA[\"Treatment Group\"] == 'Mail']\n",
    "df_GA[\"diff\"] = df_GA['Profit 60 days after the treatment date'] - df_GA['Profit 60 days before the treatment date']\n",
    "ATE_GA = df_GA['diff'].mean()\n",
    "ATE_GA"
   ]
  },
  {
   "cell_type": "code",
   "execution_count": 83,
   "metadata": {},
   "outputs": [
    {
     "data": {
      "text/plain": [
       "51.238447174447174"
      ]
     },
     "execution_count": 83,
     "metadata": {},
     "output_type": "execute_result"
    }
   ],
   "source": [
    "df_OH = df_Q1[df_Q1['State']== \"OH\"]\n",
    "df_OH = df_OH[df_OH[\"Treatment Group\"] == 'Mail']\n",
    "df_OH[\"diff\"] = df_OH['Profit 60 days after the treatment date'] - df_OH['Profit 60 days before the treatment date']\n",
    "ATE_OH = df_OH['diff'].mean()\n",
    "ATE_OH"
   ]
  },
  {
   "cell_type": "code",
   "execution_count": 86,
   "metadata": {},
   "outputs": [
    {
     "data": {
      "text/plain": [
       "29.533846153846156"
      ]
     },
     "execution_count": 86,
     "metadata": {},
     "output_type": "execute_result"
    }
   ],
   "source": [
    "df_VA = df_Q1[df_Q1['State']== \"VA\"]\n",
    "df_VA = df_VA[df_VA[\"Treatment Group\"] == 'Mail']\n",
    "df_VA[\"diff\"] = df_VA['Profit 60 days after the treatment date'] - df_VA['Profit 60 days before the treatment date']\n",
    "ATE_VA = df_VA['diff'].mean()\n",
    "ATE_VA"
   ]
  },
  {
   "cell_type": "code",
   "execution_count": 87,
   "metadata": {},
   "outputs": [
    {
     "name": "stdout",
     "output_type": "stream",
     "text": [
      "ATE for GA is 74.52\n",
      "ATE for OH is 51.24\n",
      "ATE for VA is 29.53\n"
     ]
    }
   ],
   "source": [
    "print(f'ATE for GA is {round(ATE_GA,2)}')\n",
    "print(f'ATE for OH is {round(ATE_OH,2)}')\n",
    "print(f'ATE for VA is {round(ATE_VA,2)}')"
   ]
  },
  {
   "cell_type": "code",
   "execution_count": 88,
   "metadata": {},
   "outputs": [],
   "source": [
    "# b) Hypothesis test \n",
    "treatment_before_GA = df_Q1[df_Q1['State'] == 'GA']['Profit 60 days before the treatment date']\n",
    "treatment_after_GA = df_Q1[df_Q1['State'] == 'GA']['Profit 60 days after the treatment date']\n",
    "treatment_before_OH = df_Q1[df_Q1['State'] == 'OH']['Profit 60 days before the treatment date']\n",
    "treatment_after_OH = df_Q1[df_Q1['State'] == 'OH']['Profit 60 days after the treatment date']\n",
    "treatment_before_VA = df_Q1[df_Q1['State'] == 'VA']['Profit 60 days before the treatment date']\n",
    "treatment_after_VA = df_Q1[df_Q1['State'] == 'VA']['Profit 60 days after the treatment date']"
   ]
  },
  {
   "cell_type": "code",
   "execution_count": 89,
   "metadata": {},
   "outputs": [
    {
     "name": "stdout",
     "output_type": "stream",
     "text": [
      "T-statistic: -1.09, P-value: 0.0\n"
     ]
    }
   ],
   "source": [
    "t_stat, p_value = ttest_ind(treatment_before_GA, treatment_after_GA, equal_var=False)\n",
    "print(f'T-statistic: {round(stat,2)}, P-value: {round(p_value,5)}')"
   ]
  },
  {
   "cell_type": "code",
   "execution_count": 91,
   "metadata": {},
   "outputs": [
    {
     "name": "stdout",
     "output_type": "stream",
     "text": [
      "T-statistic: -1.09, P-value: 0.0\n"
     ]
    }
   ],
   "source": [
    "t_stat, p_value = ttest_ind(treatment_before_OH, treatment_after_OH, equal_var=False)\n",
    "print(f'T-statistic: {round(stat,2)}, P-value: {round(p_value,5)}')"
   ]
  },
  {
   "cell_type": "code",
   "execution_count": 92,
   "metadata": {},
   "outputs": [
    {
     "name": "stdout",
     "output_type": "stream",
     "text": [
      "T-statistic: -1.09, P-value: 0.0\n"
     ]
    }
   ],
   "source": [
    "t_stat, p_value = ttest_ind(treatment_before_VA, treatment_after_VA, equal_var=False)\n",
    "print(f'T-statistic: {round(stat,2)}, P-value: {round(p_value,5)}')"
   ]
  },
  {
   "cell_type": "code",
   "execution_count": 54,
   "metadata": {},
   "outputs": [],
   "source": [
    "# Results are statistically significant, and the profit is positive, so I will launch the campaign."
   ]
  },
  {
   "cell_type": "code",
   "execution_count": 93,
   "metadata": {},
   "outputs": [],
   "source": [
    "# c)\n",
    "prob_GA = df_Q1[df_Q1['State'] == 'GA']['Customer ID'].count()/12000"
   ]
  },
  {
   "cell_type": "code",
   "execution_count": 56,
   "metadata": {},
   "outputs": [],
   "source": [
    "prob_OH = df_Q1[df_Q1['State'] == 'OH']['Customer ID'].count()/12000"
   ]
  },
  {
   "cell_type": "code",
   "execution_count": 57,
   "metadata": {},
   "outputs": [],
   "source": [
    "prob_VA = df_Q1[df_Q1['State'] == 'VA']['Customer ID'].count()/12000"
   ]
  },
  {
   "cell_type": "code",
   "execution_count": 95,
   "metadata": {},
   "outputs": [],
   "source": [
    "profit_GA = (ATE_GA-20) * 300000 * prob_GA\n",
    "profit_OH = (ATE_OH-20) * 300000 * prob_OH\n",
    "profit_VA = (ATE_VA-20) * 300000 * prob_VA"
   ]
  },
  {
   "cell_type": "code",
   "execution_count": 96,
   "metadata": {},
   "outputs": [
    {
     "name": "stdout",
     "output_type": "stream",
     "text": [
      "Estimated Profit if launch in GA is 5895004\n",
      "Estimated Profit if launch in OH is 3203503\n",
      "Estimated Profit if launch in VA is 851611\n"
     ]
    }
   ],
   "source": [
    "print(f'Estimated Profit if launch in GA is {round(profit_GA)}')\n",
    "print(f'Estimated Profit if launch in OH is {round(profit_OH)}')\n",
    "print(f'Estimated Profit if launch in VA is {round(profit_VA)}')"
   ]
  },
  {
   "cell_type": "markdown",
   "metadata": {},
   "source": [
    "## Question 7: Recommendation"
   ]
  },
  {
   "cell_type": "code",
   "execution_count": null,
   "metadata": {},
   "outputs": [],
   "source": [
    "# Given the results, we are confident that launching the campaign in Georgia, Ohio, and Virginia states will \n",
    "# bring us profit, and Georgia will bring the most among all three states. The average treatment effect shows \n",
    "# that the profit will be $ 9,951,000, where GA brings the most profit ($ 5,895,004), followed by OH ($ 3,203,503), \n",
    "# and VA($ 851,611). However, according to the difference in difference estimate, even though the expected profit \n",
    "# assuming parallel trend is $ 693,000, we are 95% confident that the profit will fall between $ -3,681,600 \n",
    "# and $ 5,067,000, which include negative profit. Still, the result is based on the parallel trend assumption, \n",
    "# and the expected profit is still above 0."
   ]
  }
 ],
 "metadata": {
  "kernelspec": {
   "display_name": "Python 3",
   "language": "python",
   "name": "python3"
  },
  "language_info": {
   "codemirror_mode": {
    "name": "ipython",
    "version": 3
   },
   "file_extension": ".py",
   "mimetype": "text/x-python",
   "name": "python",
   "nbconvert_exporter": "python",
   "pygments_lexer": "ipython3",
   "version": "3.9.2"
  }
 },
 "nbformat": 4,
 "nbformat_minor": 2
}
